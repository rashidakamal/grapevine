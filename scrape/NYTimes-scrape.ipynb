{
 "cells": [
  {
   "cell_type": "code",
   "execution_count": 66,
   "metadata": {
    "collapsed": true
   },
   "outputs": [],
   "source": [
    "import requests\n",
    "from bs4 import BeautifulSoup\n",
    "import math\n",
    "import time\n"
   ]
  },
  {
   "cell_type": "code",
   "execution_count": 220,
   "metadata": {
    "collapsed": false
   },
   "outputs": [],
   "source": [
    "def get_body(article_url):\n",
    "    \n",
    "    api_key = \"9bf7c9114f214ff69fa9b4d721982c24\"\n",
    "    cookie = \"\"\"_gab=GA1.2.2139500475.1419980777; mlUserID=55qJygdnHyim; MSFPC=ID=9e34584aaa774f7da03707f6d4d8f56f&CS=0&LV=201506; __gads=ID=050d3ea2e1a867ce:T=1434982065:S=ALNI_MZVCbevGTdKQFSD0wqV94cWIKnvNA; _sp_id.e092=91596143d1534b7f.1454391543.1.1454391753.1454391543; _cb_ls=1; WT_FPC=id=e14d0f2e-87e3-4db2-bed5-2483e108525f:lv=1456872893416:ss=1456872262823; _sp_id.ddc6=0475f58468b404a5.1436504343.213.1460074051.1459978985; pickleAdsCampaigns=[{\"c\":\"1010\",\"e\":1462760898566,\"v\":1}]; afp_storedCookies=1279^cookie_afp_1279~1; ga_INT=GA1.2.1814193231.1420224626; _ga=GA1.2.1814193231.1420224626; __CT_Data=gpv=26&apv_202_www06=4&apv_330_www06=4&apv_342_www06=1&apv_343_www06=9&apv_377_www06=4; WRUID=0; HTML_ViewerId=5dd33cb7-3a72-59b0-b9b4-1c0454cf12a7; optimizelySegments=%7B%223007620980%22%3A%22search%22%2C%223013750536%22%3A%22false%22%2C%223028090192%22%3A%22gc%22%2C%223032570147%22%3A%22none%22%2C%223155680847%22%3A%22search%22%2C%223168910512%22%3A%22gc%22%2C%223181390897%22%3A%22false%22%2C%223190590338%22%3A%22none%22%2C%223315571554%22%3A%22search%22%2C%223321851195%22%3A%22false%22%2C%223334171090%22%3A%22pockethits%22%2C%223336921036%22%3A%22gc%22%2C%226333011659%22%3A%22true%22%7D; optimizelyBuckets=%7B%227854220743%22%3A%227839592187%22%2C%225355901213%22%3A%225361970061%22%7D; propensityEDU=Columbia; isEDU=true; OX_plg=swf|shk|pm; NYT_W2=New%20YorkNYUS|ChicagoILUS|London--UK|Los%20AngelesCAUS|San%20FranciscoCAUS|Tokyo--JP; nyt-d=101.000000000NAI00000s9Iny1/7GKH074oKi0a6miq0cAted0rCJSY1yT6Ca0f3nOM0NUY4r0F2cCa0f5WH/0zB0aL1w8JK20AOm0R0B4mTb0I9Ier0sFNe5074HOL1yD2ek0fDte5071XOR1y0cC00R2nG607201b1mT6bo1tONbz1Z01iR0C56Lo1zRmfy1ZGKHO@91192f88/2930c7b1; NYT-BCET=1486886360%7CVL7cQNC2Jbey694TE9OcIUt06Ko%3D%7CY%3BA%7CJ%2Bqpg5GVrA59%2BjIKKQylAVZGHJfddKB0VqiMjuAPNYY%3D; RMID=007f010063f2589fc17b00b1; __utmt=1; __utma=69104142.1814193231.1420224626.1485542687.1487191802.91; __utmb=69104142.1.10.1487191802; __utmc=69104142; __utmz=69104142.1485542687.90.55.utmcsr=nytimes.com|utmccn=(referral)|utmcmd=referral|utmcct=/; Kruxset=true; Kruxadx=qxk0hzyjh,pox3vefah; _gat_r2d2=1; mnet_session_depth=1%7C1487191806344; _cb=COYjR8Bcin9-CAqYKK; _chartbeat2=.1419780323834.1487191806804.0000000000010001.BZWBJpDZUfysCK0gGCze6U8CJtKW8; _cb_svref=null; _chartbeat4=t=YQxlsCAGAyvCuTmToB390AcB3AGjb&E=1&EE=1&x=0&c=0.45&y=7101&w=273; adxcl=l*416c4=6013964f:1|l*427aa=6013964f:1|l*44378=6013964f:1|t*45193=5e69c1cf:1455137670|l*3e8ac=6013964f:1|l*455af=6013964f:1|l*45033=6013964f:1|t*45271=6013964f:1458240385|l*45193=5e69c1cf:1; adxcs=s*44768=0:1; NYT-S=2UCzxVt7en6R/GInGg7WfslK21nN49ftAKyGDhk8iLFHPAcVtr40Hlq8fKcsu2C/Boy/ASfZxnNq9XRWCP0GoZZAl8iqcuoId0tWxMC2OaVr61Jxk/oZQOeN5c9XzW4ksDLrKt3RbswuUT/CHhTki.pquvbXoP.xJPi..w7rrwMcP7w7ZoeyPbdRc9wxaZbuwOEeNjq31NCTdQfrpp4LtEaFCo1nfA15lO1q9erKFJVLaoRuYWHBFz2000; nyt-m=0988128B4DFE7518B08616C914A721FE&e=i.1488326400&t=i.10&v=i.0&l=l.15.-1.-1.-1.-1.-1.-1.-1.-1.-1.-1.-1.-1.-1.-1.-1&n=i.2&g=i.0&rc=i.0&er=i.1484780775&vr=l.4.4.0.11.36&pr=l.4.6.0.11.36&vp=i.47&gf=l.10.-1.-1.-1.-1.-1.-1.-1.-1.-1.-1&ft=i.0&fv=i.0&gl=l.2.3583832805.4017480927&rl=l.1.-1&cav=i.2&imu=i.1&igu=i.1&prt=i.5&kid=i.1&ica=i.0&iue=i.1&ier=i.0&iub=i.0&ifv=i.0&igd=i.0&iga=i.0&imv=i.0&igf=i.0&iru=i.0&ird=i.0&ira=i.0&iir=i.1&abn=s.close_door_90_10_jun2016&abv=i.1&gb=l.3.0.3.1487203200; optimizelyEndUserId=oeu1436504342189r0.44754519080743194; walley=GA1.2.1814193231.1420224626; _sp_id.75b0=bb4c6516d4b7c65c.1461852869.151.1487191847.1485207214; _sp_ses.75b0=*; nyt-a=c11b7d83aae834933d9dff870b40fe93\"\"\"\n",
    "    \n",
    "    art_body = []\n",
    "\n",
    "    head_data = { \"Cookie\": cookie,\n",
    "                 \"User-Agent\":\"Mozilla/5.0 (Macintosh; Intel Mac OS X 10_10_5) AppleWebKit/537.36 (KHTML, like Gecko) Chrome/53.0.2785.143 Safari/537.36\",\n",
    "\n",
    "                 \"From\":\"rsk2161@columbia.edu\"}\n",
    "\n",
    "    response = requests.get(article_url,headers=head_data)    \n",
    "    data = response.text\n",
    "\n",
    "    soup = BeautifulSoup(data, 'html.parser')\n",
    "    \n",
    "    for item in soup.find_all(\"p\", {\"class\":\"story-content\"}):\n",
    "        art_body.append(item.text)\n",
    "        \n",
    "    if not art_body:\n",
    "        \n",
    "        for item in soup.find_all(\"p\", {\"class\":\"story-body-text\"}):\n",
    "            art_body.append(item.text)\n",
    "            \n",
    "    if not art_body:\n",
    "        \n",
    "        for item in soup.find_all(\"p\", {\"itemprop\":\"articleBody\"}):\n",
    "            art_body.append(item.text)\n",
    "        \n",
    "    return art_body"
   ]
  },
  {
   "cell_type": "code",
   "execution_count": 232,
   "metadata": {
    "collapsed": false
   },
   "outputs": [],
   "source": [
    "global errors\n",
    "errors = []\n",
    "\n",
    "def get_data(phrase, datastore=[], startyear=20, endyear=2016):\n",
    "    \n",
    "    key = \"9bf7c9114f214ff69fa9b4d721982c24\"\n",
    "    source = \"The%20New%20York%20Times\"\n",
    "    \n",
    "    months = list(range(1, 13))\n",
    "    start_month = \"0101\"\n",
    "#     end_month = \"0630\"\n",
    "    end_month = \"1231\"\n",
    "    \n",
    "    api_url = \"http://api.nytimes.com/svc/search/v2/articlesearch.json?q=%22\"+ str(phrase) + \"%22&fl=web_url\" +\"&api-key=\" + key + \"&fq=source:('\" + source + \"')\" + \"&begin_date=\" + str(startyear) + str(start_month) + \"&end_date=\" + str(endyear) + str(end_month)\n",
    "    print(api_url)\n",
    "\n",
    "#     api_url = \"http://api.nytimes.com/svc/search/v2/articlesearch.json?q=\"+ str(phrase) + \"&api-key=\" + key\n",
    "\n",
    "    response_prime = requests.get(api_url)    \n",
    "    data_prime = response_prime.json()\n",
    "    \n",
    "    results_count = data_prime['response']['meta']['hits']\n",
    "    print(\"**number of results: \", results_count)\n",
    "    pages = (math.ceil(results_count / 10))\n",
    "    \n",
    "    time.sleep(0.3) \n",
    "    \n",
    "    print(\"need to scrape\", pages, \"pages\")\n",
    "    print(\"__\"*10)\n",
    "\n",
    "    for p in range(0,pages):        \n",
    "\n",
    "        api_url = \"http://api.nytimes.com/svc/search/v2/articlesearch.json?q=%22\"+ str(phrase) + \"%22&api-key=\" + key + \"&fq=source:('\" + source + \"')\" + \"&begin_date=\" + str(startyear) + \"0101\" + \"&end_date=\" + str(endyear) + \"0101\" + \"&page=\" + str(p)\n",
    "\n",
    "        content = requests.get(api_url)\n",
    "        print(content.status_code)\n",
    "        \n",
    "        # Handle 403 bug and other errors \n",
    "        if content.status_code != 200:\n",
    "            print(\"failed on:\", api_url)\n",
    "            print(content.text)\n",
    "            \n",
    "            api_url = \"http://api.nytimes.com/svc/search/v2/articlesearch.json?q=%22\"+ str(phrase) + \"%22&fl=web_url\" + \"&api-key=\" + key + \"&fq=source:('\" + source + \"')\" + \"&begin_date=\" + str(startyear) + \"0101\" + \"&end_date=\" + str(endyear) + \"0101\" + \"&page=\" + str(p)\n",
    "            content = requests.get(api_url)\n",
    "            data = content.json()\n",
    "            \n",
    "        else:\n",
    "            \n",
    "            data = content.json()\n",
    "\n",
    "        if data.get(\"response\"):\n",
    "\n",
    "            for d in data[\"response\"][\"docs\"]:\n",
    "                d[\"body\"] = get_body(d['web_url'])\n",
    "                datastore.append(d)\n",
    "                print(\"added data point from page: \", p)\n",
    "\n",
    "            print(\"scraped page\", p)\n",
    "            print(\"__\"*20)\n",
    "\n",
    "        else:\n",
    "            \n",
    "            errors.append(p)\n",
    "            print(\"Didn't see response for page: \", p)\n",
    "            print(\"__\"*20)\n",
    "            \n",
    "        time.sleep(0.5)\n",
    "        \n",
    "    return errors"
   ]
  },
  {
   "cell_type": "markdown",
   "metadata": {},
   "source": [
    "# Test the functions"
   ]
  },
  {
   "cell_type": "code",
   "execution_count": 233,
   "metadata": {
    "collapsed": false,
    "scrolled": true
   },
   "outputs": [
    {
     "name": "stdout",
     "output_type": "stream",
     "text": [
      "http://api.nytimes.com/svc/search/v2/articlesearch.json?q=%22condition+of+anonymity%22&fl=web_url&api-key=9bf7c9114f214ff69fa9b4d721982c24&fq=source:('The%20New%20York%20Times')&begin_date=20160101&end_date=20161231\n",
      "**number of results:  685\n",
      "need to scrape 69 pages\n",
      "____________________\n",
      "429\n",
      "failed on: http://api.nytimes.com/svc/search/v2/articlesearch.json?q=%22condition+of+anonymity%22&api-key=9bf7c9114f214ff69fa9b4d721982c24&fq=source:('The%20New%20York%20Times')&begin_date=20160101&end_date=20160101&page=0\n",
      "{\"message\":\"API rate limit exceeded\"}\n",
      "\n",
      "added data point from page:  0\n",
      "added data point from page:  0\n",
      "scraped page 0\n",
      "________________________________________\n",
      "200\n",
      "scraped page 1\n",
      "________________________________________\n",
      "200\n",
      "scraped page 2\n",
      "________________________________________\n",
      "200\n",
      "scraped page 3\n",
      "________________________________________\n",
      "429\n",
      "failed on: http://api.nytimes.com/svc/search/v2/articlesearch.json?q=%22condition+of+anonymity%22&api-key=9bf7c9114f214ff69fa9b4d721982c24&fq=source:('The%20New%20York%20Times')&begin_date=20160101&end_date=20160101&page=4\n",
      "{\"message\":\"API rate limit exceeded\"}\n",
      "\n",
      "Didn't see response for page:  4\n",
      "________________________________________\n",
      "200\n",
      "scraped page 5\n",
      "________________________________________\n",
      "200\n",
      "scraped page 6\n",
      "________________________________________\n",
      "429\n",
      "failed on: http://api.nytimes.com/svc/search/v2/articlesearch.json?q=%22condition+of+anonymity%22&api-key=9bf7c9114f214ff69fa9b4d721982c24&fq=source:('The%20New%20York%20Times')&begin_date=20160101&end_date=20160101&page=7\n",
      "{\"message\":\"API rate limit exceeded\"}\n",
      "\n",
      "Didn't see response for page:  7\n",
      "________________________________________\n",
      "200\n",
      "scraped page 8\n",
      "________________________________________\n",
      "200\n",
      "scraped page 9\n",
      "________________________________________\n",
      "429\n",
      "failed on: http://api.nytimes.com/svc/search/v2/articlesearch.json?q=%22condition+of+anonymity%22&api-key=9bf7c9114f214ff69fa9b4d721982c24&fq=source:('The%20New%20York%20Times')&begin_date=20160101&end_date=20160101&page=10\n",
      "{\"message\":\"API rate limit exceeded\"}\n",
      "\n",
      "Didn't see response for page:  10\n",
      "________________________________________\n"
     ]
    },
    {
     "ename": "KeyboardInterrupt",
     "evalue": "",
     "output_type": "error",
     "traceback": [
      "\u001b[0;31m---------------------------------------------------------------------------\u001b[0m",
      "\u001b[0;31mKeyboardInterrupt\u001b[0m                         Traceback (most recent call last)",
      "\u001b[0;32m<ipython-input-233-75bf8db0efb9>\u001b[0m in \u001b[0;36m<module>\u001b[0;34m()\u001b[0m\n\u001b[1;32m      1\u001b[0m \u001b[0mmydata\u001b[0m \u001b[0;34m=\u001b[0m \u001b[0;34m[\u001b[0m\u001b[0;34m]\u001b[0m\u001b[0;34m\u001b[0m\u001b[0m\n\u001b[0;32m----> 2\u001b[0;31m \u001b[0mget_data\u001b[0m\u001b[0;34m(\u001b[0m\u001b[0;34m\"condition+of+anonymity\"\u001b[0m\u001b[0;34m,\u001b[0m \u001b[0mmydata\u001b[0m\u001b[0;34m)\u001b[0m\u001b[0;34m\u001b[0m\u001b[0m\n\u001b[0m",
      "\u001b[0;32m<ipython-input-232-0f877f7d8071>\u001b[0m in \u001b[0;36mget_data\u001b[0;34m(phrase, datastore, startyear, endyear)\u001b[0m\n\u001b[1;32m     65\u001b[0m             \u001b[0mprint\u001b[0m\u001b[0;34m(\u001b[0m\u001b[0;34m\"__\"\u001b[0m\u001b[0;34m*\u001b[0m\u001b[0;36m20\u001b[0m\u001b[0;34m)\u001b[0m\u001b[0;34m\u001b[0m\u001b[0m\n\u001b[1;32m     66\u001b[0m \u001b[0;34m\u001b[0m\u001b[0m\n\u001b[0;32m---> 67\u001b[0;31m         \u001b[0mtime\u001b[0m\u001b[0;34m.\u001b[0m\u001b[0msleep\u001b[0m\u001b[0;34m(\u001b[0m\u001b[0;36m0.5\u001b[0m\u001b[0;34m)\u001b[0m\u001b[0;34m\u001b[0m\u001b[0m\n\u001b[0m\u001b[1;32m     68\u001b[0m \u001b[0;34m\u001b[0m\u001b[0m\n\u001b[1;32m     69\u001b[0m     \u001b[0;32mreturn\u001b[0m \u001b[0merrors\u001b[0m\u001b[0;34m\u001b[0m\u001b[0m\n",
      "\u001b[0;31mKeyboardInterrupt\u001b[0m: "
     ]
    }
   ],
   "source": [
    "mydata = []\n",
    "get_data(\"condition+of+anonymity\", mydata)"
   ]
  },
  {
   "cell_type": "code",
   "execution_count": 223,
   "metadata": {
    "collapsed": false
   },
   "outputs": [
    {
     "data": {
      "text/plain": [
       "11"
      ]
     },
     "execution_count": 223,
     "metadata": {},
     "output_type": "execute_result"
    }
   ],
   "source": [
    "len(mydata)"
   ]
  },
  {
   "cell_type": "code",
   "execution_count": 224,
   "metadata": {
    "collapsed": false
   },
   "outputs": [
    {
     "data": {
      "text/plain": [
       "{'_id': '4fd268578eb7c8105d81e6d0',\n",
       " 'abstract': None,\n",
       " 'blog': [],\n",
       " 'body': ['\\n                    BORAS TO MEET WITH METS The agent Scott Boras, already in New York for the Mark Teixeira news conference, prolonged his visit to meet Wednesday with the Mets and General Manager Omar Minaya to discuss the free-agent pitchers Derek Lowe and Oliver P?z, according to a baseball executive with knowledge of the situation. The Mets have put Lowe and P?z atop their wish list, and they have already offered Lowe a three-year, $36 million contract, which he has turned down. They are unwilling to improve their proposal to Lowe.  BEN SHPIGEL        ',\n",
       "  '\\n '],\n",
       " 'byline': {'original': 'By BEN SHPIGEL',\n",
       "  'person': [{'firstname': 'Ben',\n",
       "    'lastname': 'SHPIGEL',\n",
       "    'organization': '',\n",
       "    'rank': 1,\n",
       "    'role': 'reported'}]},\n",
       " 'document_type': 'article',\n",
       " 'headline': {'main': 'ROUNDUP'},\n",
       " 'keywords': [],\n",
       " 'lead_paragraph': 'BORAS TO MEET WITH METS The agent Scott Boras, already in New York for the Mark Teixeira news conference, prolonged his visit to meet Wednesday with the Mets and General Manager Omar Minaya to discuss the free-agent pitchers Derek Lowe and Oliver Pérez, according to a baseball executive with knowledge of the situation. The Mets have put Lowe and Pérez atop their wish list, and they have already offered Lowe a three-year, $36 million contract, which he has turned down. They are unwilling to improve their proposal to Lowe. BEN SHPIGEL',\n",
       " 'multimedia': [],\n",
       " 'news_desk': 'Sports Desk',\n",
       " 'print_page': '15',\n",
       " 'pub_date': '2009-01-07T00:00:00Z',\n",
       " 'section_name': 'Sports',\n",
       " 'slideshow_credits': None,\n",
       " 'snippet': 'BORAS TO MEET WITH METS The agent Scott Boras, already in New York for the Mark Teixeira news conference, prolonged his visit to meet Wednesday with the Mets and General Manager Omar Minaya to discuss the free-agent pitchers Derek Lowe and Oliver ...',\n",
       " 'source': 'The New York Times',\n",
       " 'subsection_name': None,\n",
       " 'type_of_material': 'News',\n",
       " 'web_url': 'http://query.nytimes.com/gst/fullpage.html?res=9901EEDE103FF934A35752C0A96F9C8B63',\n",
       " 'word_count': 91}"
      ]
     },
     "execution_count": 224,
     "metadata": {},
     "output_type": "execute_result"
    }
   ],
   "source": [
    "mydata[0]"
   ]
  },
  {
   "cell_type": "code",
   "execution_count": 225,
   "metadata": {
    "collapsed": false,
    "scrolled": true
   },
   "outputs": [
    {
     "name": "stdout",
     "output_type": "stream",
     "text": [
      "http://query.nytimes.com/gst/fullpage.html?res=9901EEDE103FF934A35752C0A96F9C8B63 ['\\n                    BORAS TO MEET WITH METS The agent Scott Boras, already in New York for the Mark Teixeira news conference, prolonged his visit to meet Wednesday with the Mets and General Manager Omar Minaya to discuss the free-agent pitchers Derek Lowe and Oliver P?z, according to a baseball executive with knowledge of the situation. The Mets have put Lowe and P?z atop their wish list, and they have already offered Lowe a three-year, $36 million contract, which he has turned down. They are unwilling to improve their proposal to Lowe.  BEN SHPIGEL        ', '\\n ']\n",
      "____________________\n",
      "http://bits.blogs.nytimes.com/2011/10/19/dealbook-groupon-seeks-valuation-at-close-to-12-billion/ ['Groupon, the daily deal site, is considering an offering valued at close to $12 billion as it prepares for an investor road show next week, according to two people with knowledge of the situation.', 'These people said the current expectation is for a valuation to be more than $10 billion and if markets improve, could be significantly higher.', 'The offering is expected to be less than 10 percent of the valuation.', 'Read the entire post on DealBook. ']\n",
      "____________________\n",
      "http://www.nytimes.com/2007/12/01/sports/ncaafootball/01sportsbriefs-pelini.html ['Bo Pelini, the defensive coordinator at Louisiana State, is expected to be named the head coach at Nebraska, two sources with direct knowledge of the situation said last night. Pelini served as the defensive coordinator at Nebraska in 2003 and was the interim coach in the Cornhuskers’ Alamo Bowl victory against Michigan State that season after Frank Solich was fired. After leaving Nebraska, Pelini was co-defensive coordinator at Oklahoma. The hiring is expected to become official after L.S.U. plays Tennessee in the Southeastern Conference title game today.']\n",
      "____________________\n",
      "http://dealbook.nytimes.com/2010/07/26/carlyle-said-to-agree-to-sell-taiwan-cable-unit/ ['Carlyle Group has agreed to sell Kbro, Taiwan’s largest cable TV operator, to the controlling shareholder of Taiwan Mobile in a deal worth about 60 billion Taiwan dollars ($1.9 billion), sources with direct knowledge of the situation told Reuters on Monday.', 'The Tsai family set up a private firm to buy the unit, and would pay about 40 billion Taiwan dollars and assume Kbro’s debt of more than 20 billion Taiwan dollars, the sources said.', 'Go to Article from Reuters »']\n",
      "____________________\n",
      "http://www.nytimes.com/1996/11/21/sports/false-alarms-for-mets.html [\"Don't get excited thinking the Mets will acquire either White Sox third baseman ROBIN VENTURA or Braves first baseman FRED McGRIFF.\", 'Contrary to several rumors, a person with knowledge of the situation said the Mets are not seriously pursuing McGriff, while word out of Chicago is that the White Sox plan to retain Ventura.', 'The Mets, however, continue to pursue trade possibilities and could announce a deal as early as Monday for a reliever or an infielder with some pop in his bat.']\n",
      "____________________\n",
      "http://bats.blogs.nytimes.com/2009/01/07/boras-to-meet-with-mets/ ['The agent Scott Boras, already in New York for the Mark Teixeira news conference, prolonged his visit to meet Wednesday with the Mets and General Manager Omar Minaya to discuss the free-agent pitchers Derek Lowe and Oliver Pérez, according to a baseball executive with knowledge of the situation. The Mets have put Lowe and Pérez atop their wish list, and they have already offered Lowe a three-year, $36 million contract, which he has turned down. They are unwilling to improve their proposal to Lowe. ']\n",
      "____________________\n",
      "http://bats.blogs.nytimes.com/2009/01/09/mets-close-to-signing-tim-redding/ ['The Mets, searching for a veteran pitcher to compete with Jon Niese for the No. 5 starter’s job, are on the verge of signing the right-hander Tim Redding, according to a person in baseball with direct knowledge of the situation who would not speak publicly because a deal is not yet finalized. Redding went 10-11 with a 4.95 earned run average for Washington last season. ']\n",
      "____________________\n",
      "http://mediadecoder.blogs.nytimes.com/2008/03/01/shelley-ross-may-leave-early-show/ ['Bill Carter reports: “Shelley Ross, the executive producer of CBS’s morning news program, ‘The Early Show,’ has so alienated staff members on and off camera that she may be ousted from her position within the next few weeks, executives with knowledge of the situation said on Friday.” Read more…', 'Jan. 7: CBS ‘Early Show’ Tries a Revised Format, Again']\n",
      "____________________\n",
      "http://query.nytimes.com/gst/abstract.html?res=9A04E0DE1E30E233A25756C0A9659C946697D6CF []\n",
      "____________________\n",
      "http://query.nytimes.com/gst/abstract.html?res=9805EFDF1F30E733A25751C2A9629C946297D6CF []\n",
      "____________________\n",
      "http://dealbook.nytimes.com/2010/03/30/ubs-said-to-ring-in-2-3-billion-on-fixed-income-unit/ ['UBS generated about $2.3 billion of revenue at its fixed-income division in the first quarter as Switzerland’s biggest bank rebuilt the unit following record losses, people with knowledge of the situation told Bloomberg News.', 'UBS may have revenue of almost $1 billion from credit alone, said the people, who declined to be identified because the figures had not been publicly released. ', 'UBS hired about 350 people at its fixed-income unit, which includes emerging markets and foreign exchange, in the last 12 months, the news service noted.', 'Go to Article from Bloomberg News »']\n",
      "____________________\n"
     ]
    }
   ],
   "source": [
    "for item in mydata:\n",
    "    print(item[\"web_url\"], item[\"body\"])\n",
    "    print(\"__\"*10)"
   ]
  },
  {
   "cell_type": "markdown",
   "metadata": {},
   "source": [
    "# Very simple requests tester"
   ]
  },
  {
   "cell_type": "code",
   "execution_count": 157,
   "metadata": {
    "collapsed": false
   },
   "outputs": [
    {
     "name": "stdout",
     "output_type": "stream",
     "text": [
      "200\n",
      "{'response': {'docs': [{'web_url': 'http://www.nytimes.com/2016/12/03/opinion/sunday/where-refugees-can-come-home.html'}, {'web_url': 'http://www.nytimes.com/2015/06/08/world/middleeast/saudi-arabia-verdict-on-raif-badawi-stands.html'}, {'web_url': 'http://www.nytimes.com/2016/05/22/arts/design/le-nain-brothers-prescient-work-at-kimbell-art-museum.html'}, {'web_url': 'http://www.nytimes.com/2016/01/24/nyregion/suspect-19-arrested-in-fatal-stabbing-of-brooklyn-teenager.html'}, {'web_url': 'http://www.nytimes.com/2015/03/14/world/asia/north-korea-is-said-to-fire-7-missiles-off-its-east-coast.html'}, {'web_url': 'http://www.nytimes.com/2015/08/08/world/middleeast/dozens-of-syrian-christians-missing-from-town-attacked-by-isis.html'}, {'web_url': 'http://www.nytimes.com/politics/first-draft/2015/12/18/backers-of-marco-rubio-target-ted-cruz-for-stance-on-edward-snowden/'}, {'web_url': 'http://www.nytimes.com/2015/10/30/business/dealbook/keycorp-is-said-to-be-near-deal-for-first-niagara.html'}, {'web_url': 'http://artsbeat.blogs.nytimes.com/2015/04/14/wonder-woman-loses-female-director/'}, {'web_url': 'http://www.nytimes.com/2015/11/04/business/media/fox-to-open-theme-park-in-dubai-in-2018.html'}], 'meta': {'time': 7, 'offset': 70, 'hits': 2827}}, 'status': 'OK', 'copyright': 'Copyright (c) 2013 The New York Times Company.  All Rights Reserved.'}\n"
     ]
    }
   ],
   "source": [
    "phrase = \"anonymity\"\n",
    "key = \"9bf7c9114f214ff69fa9b4d721982c24\"\n",
    "source = \"The New York Times\"\n",
    "startyear = 2015\n",
    "endyear = 2017\n",
    "key = \"9bf7c9114f214ff69fa9b4d721982c24\"\n",
    "p = 7\n",
    "\n",
    "api_url = \"http://api.nytimes.com/svc/search/v2/articlesearch.json?q=\"+ str(phrase) + \"&api-key=\" + key + \"&fq=source:('\" + source + \"')\" + \"&begin_date=\" + str(startyear) + \"0101\" + \"&end_date=\" + str(endyear) + \"0101\" + \"&page=\" + str(p)\n",
    "        \n",
    "test = \"http://api.nytimes.com/svc/search/v2/articlesearch.json?q=anonymity&fl=web_url&api-key=9bf7c9114f214ff69fa9b4d721982c24&fq=source:('The New York Times')&begin_date=20150101&end_date=20170101&page=7\"\n",
    "response = requests.get(test)  \n",
    "print(response.status_code)\n",
    "data = response.json()\n",
    "print(data)"
   ]
  },
  {
   "cell_type": "code",
   "execution_count": null,
   "metadata": {
    "collapsed": true
   },
   "outputs": [],
   "source": []
  },
  {
   "cell_type": "code",
   "execution_count": null,
   "metadata": {
    "collapsed": true
   },
   "outputs": [],
   "source": []
  }
 ],
 "metadata": {
  "kernelspec": {
   "display_name": "Python 3",
   "language": "python",
   "name": "python3"
  },
  "language_info": {
   "codemirror_mode": {
    "name": "ipython",
    "version": 3
   },
   "file_extension": ".py",
   "mimetype": "text/x-python",
   "name": "python",
   "nbconvert_exporter": "python",
   "pygments_lexer": "ipython3",
   "version": "3.5.0"
  }
 },
 "nbformat": 4,
 "nbformat_minor": 0
}
